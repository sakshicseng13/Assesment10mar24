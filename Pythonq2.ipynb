{
 "cells": [
  {
   "cell_type": "code",
   "execution_count": null,
   "metadata": {},
   "outputs": [],
   "source": [
    "def aggressive_cows(v,n,k):\n",
    "    ans=-1\n",
    "    maxi=0\n",
    "    for i in range(n):\n",
    "        maxi=max(maxi,v[i])\n",
    "     \n",
    "    # Loop from 1 to max limit of the\n",
    "    # barn length (here = 10^9)\n",
    "     \n",
    "    for i in range(1,maxi+1):\n",
    "        if(ok(v,i,k)):\n",
    "            ans=i\n",
    "        else:\n",
    "            break\n",
    "     \n",
    "    return ans\n",
    "     \n",
    "# Driver code\n",
    "K=3\n",
    "arr=[1,2,4,8,9]\n",
    "N=len(arr)\n",
    " \n",
    "# Function call\n",
    "ans=aggressive_cows(arr,N,K)\n",
    "print(ans)"
   ]
  },
  {
   "cell_type": "code",
   "execution_count": null,
   "metadata": {},
   "outputs": [],
   "source": []
  }
 ],
 "metadata": {
  "language_info": {
   "name": "python"
  }
 },
 "nbformat": 4,
 "nbformat_minor": 2
}
